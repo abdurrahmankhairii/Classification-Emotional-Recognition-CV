{
 "cells": [
  {
   "cell_type": "code",
   "execution_count": 1,
   "id": "43419557-5055-4c35-9c51-8f98ac8664ad",
   "metadata": {},
   "outputs": [
    {
     "name": "stdout",
     "output_type": "stream",
     "text": [
      "Requirement already satisfied: tensorflow in c:\\users\\abdur\\anaconda3\\envs\\tf-env\\lib\\site-packages (2.6.0)\n",
      "Requirement already satisfied: numpy>=1.19 in c:\\users\\abdur\\anaconda3\\envs\\tf-env\\lib\\site-packages (from tensorflow) (1.23.4)\n",
      "Requirement already satisfied: absl-py~=0.10 in c:\\users\\abdur\\anaconda3\\envs\\tf-env\\lib\\site-packages (from tensorflow) (0.15.0)\n",
      "Requirement already satisfied: astunparse~=1.6.3 in c:\\users\\abdur\\anaconda3\\envs\\tf-env\\lib\\site-packages (from tensorflow) (1.6.3)\n",
      "Requirement already satisfied: clang~=5.0 in c:\\users\\abdur\\anaconda3\\envs\\tf-env\\lib\\site-packages (from tensorflow) (5.0)\n",
      "Requirement already satisfied: flatbuffers~=1.12 in c:\\users\\abdur\\anaconda3\\envs\\tf-env\\lib\\site-packages (from tensorflow) (1.12)\n",
      "Requirement already satisfied: google-pasta~=0.2 in c:\\users\\abdur\\anaconda3\\envs\\tf-env\\lib\\site-packages (from tensorflow) (0.2.0)\n",
      "Requirement already satisfied: h5py>=3.1.0 in c:\\users\\abdur\\anaconda3\\envs\\tf-env\\lib\\site-packages (from tensorflow) (3.12.1)\n",
      "Requirement already satisfied: keras-preprocessing>=1.1.2 in c:\\users\\abdur\\anaconda3\\envs\\tf-env\\lib\\site-packages (from tensorflow) (1.1.2)\n",
      "Requirement already satisfied: opt-einsum~=3.3.0 in c:\\users\\abdur\\anaconda3\\envs\\tf-env\\lib\\site-packages (from tensorflow) (3.3.0)\n",
      "Requirement already satisfied: protobuf>=3.9.2 in c:\\users\\abdur\\anaconda3\\envs\\tf-env\\lib\\site-packages (from tensorflow) (3.17.2)\n",
      "Requirement already satisfied: six>=1.15.0 in c:\\users\\abdur\\anaconda3\\envs\\tf-env\\lib\\site-packages (from tensorflow) (1.16.0)\n",
      "Requirement already satisfied: termcolor>=1.1.0 in c:\\users\\abdur\\anaconda3\\envs\\tf-env\\lib\\site-packages (from tensorflow) (2.1.0)\n",
      "Requirement already satisfied: typing-extensions>=3.7.4 in c:\\users\\abdur\\anaconda3\\envs\\tf-env\\lib\\site-packages (from tensorflow) (4.12.2)\n",
      "Requirement already satisfied: wheel>=0.35 in c:\\users\\abdur\\anaconda3\\envs\\tf-env\\lib\\site-packages (from tensorflow) (0.35.1)\n",
      "Requirement already satisfied: wrapt>=1.11.2 in c:\\users\\abdur\\anaconda3\\envs\\tf-env\\lib\\site-packages (from tensorflow) (1.17.0)\n",
      "Requirement already satisfied: gast==0.4.0 in c:\\users\\abdur\\anaconda3\\envs\\tf-env\\lib\\site-packages (from tensorflow) (0.4.0)\n",
      "Requirement already satisfied: tensorboard~=2.6 in c:\\users\\abdur\\anaconda3\\envs\\tf-env\\lib\\site-packages (from tensorflow) (2.6.0)\n",
      "Requirement already satisfied: tensorflow-estimator~=2.6 in c:\\users\\abdur\\anaconda3\\envs\\tf-env\\lib\\site-packages (from tensorflow) (2.6.0)\n",
      "Requirement already satisfied: keras>=2.4.0 in c:\\users\\abdur\\anaconda3\\envs\\tf-env\\lib\\site-packages (from tensorflow) (2.6.0)\n",
      "Requirement already satisfied: grpcio<2.0,>=1.37.0 in c:\\users\\abdur\\anaconda3\\envs\\tf-env\\lib\\site-packages (from tensorflow) (1.42.0)\n",
      "Requirement already satisfied: google-auth<2,>=1.6.3 in c:\\users\\abdur\\anaconda3\\envs\\tf-env\\lib\\site-packages (from tensorboard~=2.6->tensorflow) (1.35.0)\n",
      "Requirement already satisfied: google-auth-oauthlib<0.5,>=0.4.1 in c:\\users\\abdur\\anaconda3\\envs\\tf-env\\lib\\site-packages (from tensorboard~=2.6->tensorflow) (0.4.1)\n",
      "Requirement already satisfied: markdown>=2.6.8 in c:\\users\\abdur\\anaconda3\\envs\\tf-env\\lib\\site-packages (from tensorboard~=2.6->tensorflow) (3.4.1)\n",
      "Requirement already satisfied: requests<3,>=2.21.0 in c:\\users\\abdur\\anaconda3\\envs\\tf-env\\lib\\site-packages (from tensorboard~=2.6->tensorflow) (2.32.3)\n",
      "Requirement already satisfied: setuptools>=41.0.0 in c:\\users\\abdur\\anaconda3\\envs\\tf-env\\lib\\site-packages (from tensorboard~=2.6->tensorflow) (75.1.0)\n",
      "Requirement already satisfied: tensorboard-data-server<0.7.0,>=0.6.0 in c:\\users\\abdur\\anaconda3\\envs\\tf-env\\lib\\site-packages (from tensorboard~=2.6->tensorflow) (0.6.1)\n",
      "Requirement already satisfied: tensorboard-plugin-wit>=1.6.0 in c:\\users\\abdur\\anaconda3\\envs\\tf-env\\lib\\site-packages (from tensorboard~=2.6->tensorflow) (1.8.1)\n",
      "Requirement already satisfied: werkzeug>=0.11.15 in c:\\users\\abdur\\anaconda3\\envs\\tf-env\\lib\\site-packages (from tensorboard~=2.6->tensorflow) (3.1.3)\n",
      "Requirement already satisfied: cachetools<5.0,>=2.0.0 in c:\\users\\abdur\\anaconda3\\envs\\tf-env\\lib\\site-packages (from google-auth<2,>=1.6.3->tensorboard~=2.6->tensorflow) (4.2.4)\n",
      "Requirement already satisfied: pyasn1-modules>=0.2.1 in c:\\users\\abdur\\anaconda3\\envs\\tf-env\\lib\\site-packages (from google-auth<2,>=1.6.3->tensorboard~=2.6->tensorflow) (0.2.8)\n",
      "Requirement already satisfied: rsa<5,>=3.1.4 in c:\\users\\abdur\\anaconda3\\envs\\tf-env\\lib\\site-packages (from google-auth<2,>=1.6.3->tensorboard~=2.6->tensorflow) (4.7.2)\n",
      "Requirement already satisfied: requests-oauthlib>=0.7.0 in c:\\users\\abdur\\anaconda3\\envs\\tf-env\\lib\\site-packages (from google-auth-oauthlib<0.5,>=0.4.1->tensorboard~=2.6->tensorflow) (2.0.0)\n",
      "Requirement already satisfied: importlib-metadata>=4.4 in c:\\users\\abdur\\anaconda3\\envs\\tf-env\\lib\\site-packages (from markdown>=2.6.8->tensorboard~=2.6->tensorflow) (8.5.0)\n",
      "Requirement already satisfied: charset-normalizer<4,>=2 in c:\\users\\abdur\\anaconda3\\envs\\tf-env\\lib\\site-packages (from requests<3,>=2.21.0->tensorboard~=2.6->tensorflow) (3.3.2)\n",
      "Requirement already satisfied: idna<4,>=2.5 in c:\\users\\abdur\\anaconda3\\envs\\tf-env\\lib\\site-packages (from requests<3,>=2.21.0->tensorboard~=2.6->tensorflow) (3.7)\n",
      "Requirement already satisfied: urllib3<3,>=1.21.1 in c:\\users\\abdur\\anaconda3\\envs\\tf-env\\lib\\site-packages (from requests<3,>=2.21.0->tensorboard~=2.6->tensorflow) (2.3.0)\n",
      "Requirement already satisfied: certifi>=2017.4.17 in c:\\users\\abdur\\anaconda3\\envs\\tf-env\\lib\\site-packages (from requests<3,>=2.21.0->tensorboard~=2.6->tensorflow) (2024.12.14)\n",
      "Requirement already satisfied: MarkupSafe>=2.1.1 in c:\\users\\abdur\\anaconda3\\envs\\tf-env\\lib\\site-packages (from werkzeug>=0.11.15->tensorboard~=2.6->tensorflow) (2.1.3)\n",
      "Requirement already satisfied: zipp>=3.20 in c:\\users\\abdur\\anaconda3\\envs\\tf-env\\lib\\site-packages (from importlib-metadata>=4.4->markdown>=2.6.8->tensorboard~=2.6->tensorflow) (3.21.0)\n",
      "Requirement already satisfied: pyasn1<0.5.0,>=0.4.6 in c:\\users\\abdur\\anaconda3\\envs\\tf-env\\lib\\site-packages (from pyasn1-modules>=0.2.1->google-auth<2,>=1.6.3->tensorboard~=2.6->tensorflow) (0.4.8)\n",
      "Requirement already satisfied: oauthlib>=3.0.0 in c:\\users\\abdur\\anaconda3\\envs\\tf-env\\lib\\site-packages (from requests-oauthlib>=0.7.0->google-auth-oauthlib<0.5,>=0.4.1->tensorboard~=2.6->tensorflow) (3.2.2)\n"
     ]
    }
   ],
   "source": [
    "!pip install tensorflow"
   ]
  },
  {
   "cell_type": "code",
   "execution_count": 2,
   "id": "0decf4ce-e06e-4dab-bf7d-9552c2d878c7",
   "metadata": {},
   "outputs": [],
   "source": [
    "import tensorflow as tf\n",
    "from tensorflow import keras"
   ]
  },
  {
   "cell_type": "code",
   "execution_count": 3,
   "id": "62a7d38d-f007-4f01-8935-94f38c705430",
   "metadata": {},
   "outputs": [
    {
     "name": "stdout",
     "output_type": "stream",
     "text": [
      "Num GPUs Available:  1\n"
     ]
    }
   ],
   "source": [
    "print(\"Num GPUs Available: \", len(tf.config.experimental.list_physical_devices('GPU')))"
   ]
  },
  {
   "cell_type": "code",
   "execution_count": 4,
   "id": "35d6c3bc-6ed8-44a4-baf7-5c08007e1be4",
   "metadata": {},
   "outputs": [
    {
     "data": {
      "text/plain": [
       "True"
      ]
     },
     "execution_count": 4,
     "metadata": {},
     "output_type": "execute_result"
    }
   ],
   "source": [
    "tf.test.is_built_with_cuda()"
   ]
  },
  {
   "cell_type": "code",
   "execution_count": 5,
   "id": "aa201997-a996-4a13-8581-01ff1ddf15e2",
   "metadata": {},
   "outputs": [
    {
     "name": "stdout",
     "output_type": "stream",
     "text": [
      "2.6.0\n"
     ]
    }
   ],
   "source": [
    "print(tf.version.VERSION)"
   ]
  },
  {
   "cell_type": "code",
   "execution_count": 6,
   "id": "471757e5-83a0-42bd-ab0b-2ff07796f4c8",
   "metadata": {},
   "outputs": [
    {
     "data": {
      "text/plain": [
       "'3.9.18 (main, Sep 11 2023, 13:30:38) [MSC v.1916 64 bit (AMD64)]'"
      ]
     },
     "execution_count": 6,
     "metadata": {},
     "output_type": "execute_result"
    }
   ],
   "source": [
    "import sys\n",
    "sys.version"
   ]
  },
  {
   "cell_type": "code",
   "execution_count": null,
   "id": "ea5ed7a0-1660-48d2-8d68-b19572fd4a5d",
   "metadata": {},
   "outputs": [],
   "source": []
  }
 ],
 "metadata": {
  "kernelspec": {
   "display_name": "Python 3 (ipykernel)",
   "language": "python",
   "name": "python3"
  },
  "language_info": {
   "codemirror_mode": {
    "name": "ipython",
    "version": 3
   },
   "file_extension": ".py",
   "mimetype": "text/x-python",
   "name": "python",
   "nbconvert_exporter": "python",
   "pygments_lexer": "ipython3",
   "version": "3.9.18"
  }
 },
 "nbformat": 4,
 "nbformat_minor": 5
}

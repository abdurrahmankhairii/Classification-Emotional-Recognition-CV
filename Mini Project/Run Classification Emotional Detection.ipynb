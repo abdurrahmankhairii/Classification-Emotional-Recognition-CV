{
 "cells": [
  {
   "cell_type": "code",
   "execution_count": 1,
   "id": "852f93ba-1ae7-4003-81b3-caa6a18ac2a1",
   "metadata": {},
   "outputs": [],
   "source": [
    "from keras.models import load_model\n",
    "\n",
    "# returns a compiled model\n",
    "# identical to the previous one\n",
    "model = load_model('emotion_model_sequential.h5')"
   ]
  },
  {
   "cell_type": "code",
   "execution_count": null,
   "id": "842f1200-7cab-4386-ba81-42d53e5e29bf",
   "metadata": {},
   "outputs": [],
   "source": [
    "import cv2\n",
    "import numpy as np\n",
    "import tensorflow as tf\n",
    "\n",
    "# Load pre-trained face detector\n",
    "face_cascade = cv2.CascadeClassifier(cv2.data.haarcascades + 'haarcascade_frontalface_default.xml')\n",
    "\n",
    "# Load the saved emotion detection model\n",
    "model = tf.keras.models.load_model('emotion_model_sequential.h5')\n",
    "\n",
    "# Emotion labels corresponding to model's output classes\n",
    "emotion_labels = ['Angry', 'Disgust', 'Fear', 'Happy', 'Sad', 'Surprise', 'Neutral']\n",
    "\n",
    "# Model input size (expected by your model)\n",
    "input_size = (224, 224)  # Adjust to match the size used during training\n",
    "\n",
    "# Initialize camera\n",
    "cap = cv2.VideoCapture(0)\n",
    "\n",
    "while True:\n",
    "    ret, frame = cap.read()\n",
    "    if not ret:\n",
    "        break\n",
    "\n",
    "    # Convert to grayscale\n",
    "    gray = cv2.cvtColor(frame, cv2.COLOR_BGR2GRAY)\n",
    "\n",
    "    # Detect faces\n",
    "    faces = face_cascade.detectMultiScale(gray, scaleFactor=1.3, minNeighbors=5)\n",
    "\n",
    "    for (x, y, w, h) in faces:\n",
    "        face = gray[y:y+h, x:x+w]  # Crop the face region\n",
    "        \n",
    "        # Resize to match the input size of the model\n",
    "        face = cv2.resize(face, input_size)  # Resize to 224x224 (or model's expected size)\n",
    "        \n",
    "        # Normalize the pixel values to [0, 1]\n",
    "        face = face / 255.0\n",
    "        \n",
    "        # Add channel and batch dimensions for grayscale (single channel)\n",
    "        face = np.expand_dims(face, axis=-1)  # Add channel dimension (for grayscale, 1 channel)\n",
    "        face = np.expand_dims(face, axis=0)  # Add batch dimension (for single image)\n",
    "        \n",
    "        # Predict emotion\n",
    "        predictions = model.predict(face)\n",
    "        emotion = emotion_labels[np.argmax(predictions[0])]\n",
    "\n",
    "        # Draw bounding box and label on the frame\n",
    "        cv2.rectangle(frame, (x, y), (x+w, y+h), (255, 0, 0), 2)\n",
    "        cv2.putText(frame, emotion, (x, y-10), cv2.FONT_HERSHEY_SIMPLEX, 1, (255, 0, 0), 2, cv2.LINE_AA)\n",
    "\n",
    "    # Display the frame with predicted emotion\n",
    "    cv2.imshow('Classification Emotion Detection', frame)\n",
    "\n",
    "    if cv2.waitKey(1) & 0xFF == ord('q'):\n",
    "        break\n",
    "\n",
    "cap.release()\n",
    "cv2.destroyAllWindows()\n"
   ]
  },
  {
   "cell_type": "code",
   "execution_count": null,
   "id": "c9734667-b766-49d3-b472-795f9d1fe0c7",
   "metadata": {},
   "outputs": [],
   "source": []
  },
  {
   "cell_type": "code",
   "execution_count": null,
   "id": "c451a34d-e28f-4c2a-a742-3a084f489d6c",
   "metadata": {},
   "outputs": [],
   "source": []
  }
 ],
 "metadata": {
  "kernelspec": {
   "display_name": "Python 3 (ipykernel)",
   "language": "python",
   "name": "python3"
  },
  "language_info": {
   "codemirror_mode": {
    "name": "ipython",
    "version": 3
   },
   "file_extension": ".py",
   "mimetype": "text/x-python",
   "name": "python",
   "nbconvert_exporter": "python",
   "pygments_lexer": "ipython3",
   "version": "3.9.18"
  }
 },
 "nbformat": 4,
 "nbformat_minor": 5
}
